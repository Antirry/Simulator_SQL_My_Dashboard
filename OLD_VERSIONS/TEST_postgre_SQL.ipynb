{
 "cells": [
  {
   "cell_type": "code",
   "execution_count": 45,
   "metadata": {},
   "outputs": [],
   "source": [
    "import psycopg2\n",
    "import pandas as pd\n",
    "import altair as alt"
   ]
  },
  {
   "cell_type": "code",
   "execution_count": 1,
   "metadata": {},
   "outputs": [],
   "source": [
    "import configparser\n",
    "\n",
    "config = configparser.ConfigParser()\n",
    "config.read('TEST.ini', encoding=\"utf-8\")\n",
    "\n",
    "config = {i: config['postgresql'][i].replace('\"', '') for i in config['postgresql']}"
   ]
  },
  {
   "cell_type": "code",
   "execution_count": 49,
   "metadata": {},
   "outputs": [
    {
     "name": "stdout",
     "output_type": "stream",
     "text": [
      "[{'date': datetime.date(2022, 8, 24), 'orders_count': 138, 'moving_avg': None}, {'date': datetime.date(2022, 8, 25), 'orders_count': 1059, 'moving_avg': Decimal('138.00')}, {'date': datetime.date(2022, 8, 26), 'orders_count': 1447, 'moving_avg': Decimal('598.50')}, {'date': datetime.date(2022, 8, 27), 'orders_count': 2141, 'moving_avg': Decimal('881.33')}, {'date': datetime.date(2022, 8, 28), 'orders_count': 2998, 'moving_avg': Decimal('1549.00')}, {'date': datetime.date(2022, 8, 29), 'orders_count': 3267, 'moving_avg': Decimal('2195.33')}, {'date': datetime.date(2022, 8, 30), 'orders_count': 3371, 'moving_avg': Decimal('2802.00')}, {'date': datetime.date(2022, 8, 31), 'orders_count': 3410, 'moving_avg': Decimal('3212.00')}, {'date': datetime.date(2022, 9, 1), 'orders_count': 3688, 'moving_avg': Decimal('3349.33')}, {'date': datetime.date(2022, 9, 2), 'orders_count': 5001, 'moving_avg': Decimal('3489.67')}, {'date': datetime.date(2022, 9, 3), 'orders_count': 5709, 'moving_avg': Decimal('4033.00')}, {'date': datetime.date(2022, 9, 4), 'orders_count': 6010, 'moving_avg': Decimal('4799.33')}, {'date': datetime.date(2022, 9, 5), 'orders_count': 4675, 'moving_avg': Decimal('5573.33')}, {'date': datetime.date(2022, 9, 6), 'orders_count': 3451, 'moving_avg': Decimal('5464.67')}, {'date': datetime.date(2022, 9, 7), 'orders_count': 4777, 'moving_avg': Decimal('4712.00')}, {'date': datetime.date(2022, 9, 8), 'orders_count': 5474, 'moving_avg': Decimal('4301.00')}]\n"
     ]
    }
   ],
   "source": [
    "connect = psycopg2.connect(**config)\n",
    "\n",
    "cursor = connect.cursor()\n",
    "\n",
    "cursor.execute(\"\"\"\n",
    "SELECT date,\n",
    "       orders_count,\n",
    "       ROUND(AVG(orders_count) OVER (\n",
    "                                ORDER BY date ROWS BETWEEN 3 PRECEDING AND 1 PRECEDING), 2) AS moving_avg\n",
    "FROM (\n",
    "    SELECT DATE(creation_time) AS date,\n",
    "           COUNT(order_id) AS orders_count\n",
    "    FROM orders\n",
    "    WHERE order_id NOT IN (SELECT order_id FROM user_actions WHERE action = 'cancel_order')\n",
    "    GROUP BY date\n",
    ") t;\n",
    "\"\"\")\n",
    "\n",
    "desc = [desc[0] for desc in cursor.description]\n",
    "\n",
    "data_in_query = [{desc[j]: i[j] for j in range(len(desc))} for i in cursor.fetchall()]\n",
    "\n",
    "print(data_in_query)"
   ]
  },
  {
   "cell_type": "code",
   "execution_count": 50,
   "metadata": {},
   "outputs": [
    {
     "name": "stdout",
     "output_type": "stream",
     "text": [
      "date            string[python]\n",
      "orders_count             int64\n",
      "moving_avg             float64\n",
      "dtype: object\n",
      "          date  orders_count  moving_avg\n",
      "0   2022-08-24           138         NaN\n",
      "1   2022-08-25          1059      138.00\n",
      "2   2022-08-26          1447      598.50\n",
      "3   2022-08-27          2141      881.33\n",
      "4   2022-08-28          2998     1549.00\n",
      "5   2022-08-29          3267     2195.33\n",
      "6   2022-08-30          3371     2802.00\n",
      "7   2022-08-31          3410     3212.00\n",
      "8   2022-09-01          3688     3349.33\n",
      "9   2022-09-02          5001     3489.67\n",
      "10  2022-09-03          5709     4033.00\n",
      "11  2022-09-04          6010     4799.33\n",
      "12  2022-09-05          4675     5573.33\n",
      "13  2022-09-06          3451     5464.67\n",
      "14  2022-09-07          4777     4712.00\n",
      "15  2022-09-08          5474     4301.00\n"
     ]
    }
   ],
   "source": [
    "def data():\n",
    "    df = pd.DataFrame(data_in_query)\n",
    "    return df\n",
    "\n",
    "df = data()\n",
    "\n",
    "df['date'] = df['date'].astype('string')\n",
    "df['moving_avg'] = pd.to_numeric(df['moving_avg'])\n",
    "\n",
    "print(df.dtypes)\n",
    "print(df)"
   ]
  },
  {
   "cell_type": "markdown",
   "metadata": {},
   "source": [
    "    Посмотреть схему цветов\n",
    "https://vega.github.io/vega/docs/schemes/"
   ]
  },
  {
   "cell_type": "code",
   "execution_count": 51,
   "metadata": {},
   "outputs": [
    {
     "data": {
      "text/html": [
       "\n",
       "<style>\n",
       "  #altair-viz-9dc0c0314df04a58803eef3966bfeaa2.vega-embed {\n",
       "    width: 100%;\n",
       "    display: flex;\n",
       "  }\n",
       "\n",
       "  #altair-viz-9dc0c0314df04a58803eef3966bfeaa2.vega-embed details,\n",
       "  #altair-viz-9dc0c0314df04a58803eef3966bfeaa2.vega-embed details summary {\n",
       "    position: relative;\n",
       "  }\n",
       "</style>\n",
       "<div id=\"altair-viz-9dc0c0314df04a58803eef3966bfeaa2\"></div>\n",
       "<script type=\"text/javascript\">\n",
       "  var VEGA_DEBUG = (typeof VEGA_DEBUG == \"undefined\") ? {} : VEGA_DEBUG;\n",
       "  (function(spec, embedOpt){\n",
       "    let outputDiv = document.currentScript.previousElementSibling;\n",
       "    if (outputDiv.id !== \"altair-viz-9dc0c0314df04a58803eef3966bfeaa2\") {\n",
       "      outputDiv = document.getElementById(\"altair-viz-9dc0c0314df04a58803eef3966bfeaa2\");\n",
       "    }\n",
       "    const paths = {\n",
       "      \"vega\": \"https://cdn.jsdelivr.net/npm/vega@5?noext\",\n",
       "      \"vega-lib\": \"https://cdn.jsdelivr.net/npm/vega-lib?noext\",\n",
       "      \"vega-lite\": \"https://cdn.jsdelivr.net/npm/vega-lite@5.14.1?noext\",\n",
       "      \"vega-embed\": \"https://cdn.jsdelivr.net/npm/vega-embed@6?noext\",\n",
       "    };\n",
       "\n",
       "    function maybeLoadScript(lib, version) {\n",
       "      var key = `${lib.replace(\"-\", \"\")}_version`;\n",
       "      return (VEGA_DEBUG[key] == version) ?\n",
       "        Promise.resolve(paths[lib]) :\n",
       "        new Promise(function(resolve, reject) {\n",
       "          var s = document.createElement('script');\n",
       "          document.getElementsByTagName(\"head\")[0].appendChild(s);\n",
       "          s.async = true;\n",
       "          s.onload = () => {\n",
       "            VEGA_DEBUG[key] = version;\n",
       "            return resolve(paths[lib]);\n",
       "          };\n",
       "          s.onerror = () => reject(`Error loading script: ${paths[lib]}`);\n",
       "          s.src = paths[lib];\n",
       "        });\n",
       "    }\n",
       "\n",
       "    function showError(err) {\n",
       "      outputDiv.innerHTML = `<div class=\"error\" style=\"color:red;\">${err}</div>`;\n",
       "      throw err;\n",
       "    }\n",
       "\n",
       "    function displayChart(vegaEmbed) {\n",
       "      vegaEmbed(outputDiv, spec, embedOpt)\n",
       "        .catch(err => showError(`Javascript Error: ${err.message}<br>This usually means there's a typo in your chart specification. See the javascript console for the full traceback.`));\n",
       "    }\n",
       "\n",
       "    if(typeof define === \"function\" && define.amd) {\n",
       "      requirejs.config({paths});\n",
       "      require([\"vega-embed\"], displayChart, err => showError(`Error loading script: ${err.message}`));\n",
       "    } else {\n",
       "      maybeLoadScript(\"vega\", \"5\")\n",
       "        .then(() => maybeLoadScript(\"vega-lite\", \"5.14.1\"))\n",
       "        .then(() => maybeLoadScript(\"vega-embed\", \"6\"))\n",
       "        .catch(showError)\n",
       "        .then(() => displayChart(vegaEmbed));\n",
       "    }\n",
       "  })({\"config\": {\"view\": {\"continuousWidth\": 300, \"continuousHeight\": 300}}, \"data\": {\"name\": \"data-d8aeb70564793c773384ef60f526b170\"}, \"mark\": {\"type\": \"bar\"}, \"encoding\": {\"color\": {\"condition\": {\"test\": \"(datum.orders_count === 6010)\", \"value\": \"#bcdb22\"}, \"value\": \"#7f7f7f\"}, \"x\": {\"field\": \"orders_count\", \"type\": \"quantitative\"}, \"y\": {\"field\": \"date\", \"type\": \"ordinal\"}}, \"width\": 800, \"$schema\": \"https://vega.github.io/schema/vega-lite/v5.14.1.json\", \"datasets\": {\"data-d8aeb70564793c773384ef60f526b170\": [{\"date\": \"2022-08-24\", \"orders_count\": 138, \"moving_avg\": null}, {\"date\": \"2022-08-25\", \"orders_count\": 1059, \"moving_avg\": 138.0}, {\"date\": \"2022-08-26\", \"orders_count\": 1447, \"moving_avg\": 598.5}, {\"date\": \"2022-08-27\", \"orders_count\": 2141, \"moving_avg\": 881.33}, {\"date\": \"2022-08-28\", \"orders_count\": 2998, \"moving_avg\": 1549.0}, {\"date\": \"2022-08-29\", \"orders_count\": 3267, \"moving_avg\": 2195.33}, {\"date\": \"2022-08-30\", \"orders_count\": 3371, \"moving_avg\": 2802.0}, {\"date\": \"2022-08-31\", \"orders_count\": 3410, \"moving_avg\": 3212.0}, {\"date\": \"2022-09-01\", \"orders_count\": 3688, \"moving_avg\": 3349.33}, {\"date\": \"2022-09-02\", \"orders_count\": 5001, \"moving_avg\": 3489.67}, {\"date\": \"2022-09-03\", \"orders_count\": 5709, \"moving_avg\": 4033.0}, {\"date\": \"2022-09-04\", \"orders_count\": 6010, \"moving_avg\": 4799.33}, {\"date\": \"2022-09-05\", \"orders_count\": 4675, \"moving_avg\": 5573.33}, {\"date\": \"2022-09-06\", \"orders_count\": 3451, \"moving_avg\": 5464.67}, {\"date\": \"2022-09-07\", \"orders_count\": 4777, \"moving_avg\": 4712.0}, {\"date\": \"2022-09-08\", \"orders_count\": 5474, \"moving_avg\": 4301.0}]}}, {\"mode\": \"vega-lite\"});\n",
       "</script>"
      ],
      "text/plain": [
       "alt.Chart(...)"
      ]
     },
     "execution_count": 51,
     "metadata": {},
     "output_type": "execute_result"
    }
   ],
   "source": [
    "max_orders_count = df['orders_count'].max()\n",
    "\n",
    "alt.Chart(df).mark_bar().encode(\n",
    "    x='orders_count',\n",
    "    y='date:O',\n",
    "    color=alt.condition(\n",
    "        alt.datum.orders_count == max_orders_count,\n",
    "        alt.value('#bcdb22'),  # Цвет для максимального значения\n",
    "        alt.value('#7f7f7f')  # Цвет для остальных значений\n",
    "    )\n",
    ").properties(width=800)"
   ]
  },
  {
   "cell_type": "markdown",
   "metadata": {},
   "source": [
    "    Видео-гайд по altair в Jupyter Notebook:\n",
    "https://www.youtube.com/watch?v=YCO5Zl2iY8k \n",
    "\n",
    "    Как создать таблицу по данным графика Altair:\n",
    "https://stackoverflow.com/questions/67997825/python-altair-generate-a-table-on-selection\n",
    "\n",
    "    Кодирование типов данных в указании name_column:TYPE \n",
    "https://altair-viz.github.io/altair-viz-v4/user_guide/encoding.html\n",
    "\n",
    "    Как сделать название для графика Altair:\n",
    "https://www.appsloveworld.com/coding/python3x/6/how-to-add-a-subtitle-to-an-altair-generated-chart "
   ]
  }
 ],
 "metadata": {
  "kernelspec": {
   "display_name": "venv",
   "language": "python",
   "name": "python3"
  },
  "language_info": {
   "codemirror_mode": {
    "name": "ipython",
    "version": 3
   },
   "file_extension": ".py",
   "mimetype": "text/x-python",
   "name": "python",
   "nbconvert_exporter": "python",
   "pygments_lexer": "ipython3",
   "version": "3.10.4"
  },
  "orig_nbformat": 4
 },
 "nbformat": 4,
 "nbformat_minor": 2
}
